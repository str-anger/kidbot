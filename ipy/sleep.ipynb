{
 "cells": [
  {
   "cell_type": "code",
   "execution_count": 1,
   "metadata": {},
   "outputs": [
    {
     "name": "stdout",
     "output_type": "stream",
     "text": [
      "[@2018-02-26 23:23:54 случилось mom_food с аргументами ['Какаушка'], @2018-02-26 23:29:42 случилось sleep с аргументами []] ... [@2018-03-11 14:48:07 случилось mom_food с аргументами ['Суп куриный с лапшой, сосиска, пастилка яблочная, груша'], @2018-03-12 11:30:15 случилось child_weight с аргументами ['3270'], @2018-03-12 11:32:18 случилось mom_food с аргументами ['Финик, пастила, салат зелёный, йогурт с грушей и злаками']]\n"
     ]
    }
   ],
   "source": [
    "import requests\n",
    "user = \"startupfairy\"\n",
    "server = \"sprotasov.ru\"\n",
    "port = 12345\n",
    "url = \"http://{0}:{1}/{2}\".format(server, port, user)\n",
    "raw = requests.get(url).text\n",
    "lines = raw.strip().split('\\n')\n",
    "# include common oop model\n",
    "%run kidoop.py\n",
    "events = [Item(line) for line in lines]\n",
    "print(events[:2], \"...\", events[-3:])"
   ]
  },
  {
   "cell_type": "code",
   "execution_count": 2,
   "metadata": {},
   "outputs": [
    {
     "name": "stdout",
     "output_type": "stream",
     "text": [
      "[(@2018-03-06 00:02:38 случилось sleep с аргументами [], None), (@2018-03-06 10:36:13 случилось sleep с аргументами [], None), (@2018-03-06 14:29:50 случилось sleep с аргументами [], None), (@2018-03-07 14:37:35 случилось sleep с аргументами [], None), (@2018-03-07 17:54:00 случилось sleep с аргументами [], None), (@2018-03-07 19:55:26 случилось sleep с аргументами [], None)]\n"
     ]
    }
   ],
   "source": [
    "import datetime as dt\n",
    "start = dt.datetime(2018, 3, 6)\n",
    "# print(start, start.timestamp())\n",
    "sleeps = Item.consequense_in_range(events, 'sleep', 'wakeup', time_hours=4)\n",
    "# recent\n",
    "sleeps = [s for s in sleeps if s[0].ts > start.timestamp()]\n",
    "print(sleeps)"
   ]
  },
  {
   "cell_type": "code",
   "execution_count": 3,
   "metadata": {},
   "outputs": [
    {
     "data": {
      "image/png": "[encoded data removed]",
      "text/plain": [
       "<matplotlib.figure.Figure at 0x1b90bd35ba8>"
      ]
     },
     "metadata": {},
     "output_type": "display_data"
    }
   ],
   "source": [
    "from matplotlib import pyplot as plt\n",
    "plt.figure(figsize=(10,4))\n",
    "vals = [p[0].days_from(dt.datetime(2018, 3, 3, 12))  for p in sleeps]\n",
    "times = [p[0].time_to(p[1]) for p in sleeps]\n",
    "plt.plot(vals, times, 'bo', markersize=5)\n",
    "plt.grid(True)\n",
    "plt.xlabel('Время')\n",
    "plt.ylabel('Длина сна (сек)')\n",
    "plt.show()"
   ]
  }
 ],
 "metadata": {
  "kernelspec": {
   "display_name": "Python 3",
   "language": "python",
   "name": "python3"
  },
  "language_info": {
   "codemirror_mode": {
    "name": "ipython",
    "version": 3
   },
   "file_extension": ".py",
   "mimetype": "text/x-python",
   "name": "python",
   "nbconvert_exporter": "python",
   "pygments_lexer": "ipython3",
   "version": "3.6.1"
  }
 },
 "nbformat": 4,
 "nbformat_minor": 2
}
