{
 "cells": [
  {
   "cell_type": "code",
   "execution_count": 1,
   "metadata": {},
   "outputs": [],
   "source": [
    "import requests\n",
    "user = \"sprotasov\"\n",
    "server = \"sprotasov.ru\"\n",
    "port = 12345\n",
    "url = \"http://{0}:{1}/{2}\".format(server, port, user)\n",
    "raw = requests.get(url).text\n",
    "lines = raw.strip().split('\\n')"
   ]
  },
  {
   "cell_type": "code",
   "execution_count": 2,
   "metadata": {},
   "outputs": [
    {
     "data": {
      "text/plain": [
       "[@2018-02-26 23:07:00 случилось sleep с аргументами [],\n",
       " @2018-02-26 23:09:39 случилось sleep с аргументами [],\n",
       " @2018-02-26 23:09:41 случилось sleep с аргументами [],\n",
       " @2018-02-28 18:45:39 случилось sleep с аргументами [],\n",
       " @2018-03-02 09:56:21 случилось sleep с аргументами [],\n",
       " @2018-03-02 10:26:06 случилось sleep с аргументами [],\n",
       " @2018-03-02 10:26:11 случилось sleep с аргументами [],\n",
       " @2018-03-02 10:26:19 случилось sleep с аргументами [],\n",
       " @2018-03-02 10:40:16 случилось sleep с аргументами [],\n",
       " @2018-03-02 10:40:24 случилось sleep с аргументами [],\n",
       " @2018-03-02 10:44:19 случилось sleep с аргументами [],\n",
       " @2018-03-02 10:44:30 случилось sleep с аргументами []]"
      ]
     },
     "execution_count": 2,
     "metadata": {},
     "output_type": "execute_result"
    }
   ],
   "source": [
    "import datetime\n",
    "\n",
    "class Item:\n",
    "    def __init__(self, text):\n",
    "        self.text = text\n",
    "        words = text.split('\\t')\n",
    "        self.ts = int(words[0])\n",
    "        self.time = datetime.datetime.fromtimestamp(self.ts)\n",
    "        self.action = words[1]\n",
    "        self.args = words[2:]\n",
    "        \n",
    "    def time_to(self, event):\n",
    "        if event:\n",
    "            return event.ts - self.ts\n",
    "        else:\n",
    "            return 0\n",
    "    \n",
    "    def __str__(self):\n",
    "        return \"@{0} случилось {1} с аргументами {2}\".format(self.time, self.action, self.args)\n",
    "\n",
    "    def __repr__(self):\n",
    "        return self.__str__()\n",
    "    \n",
    "    \n",
    "def get_all(events, action):\n",
    "    return [event for event in events if event.action==action]\n",
    "\n",
    "events = [Item(x) for x in lines]\n",
    "get_all(events, 'sleep')"
   ]
  },
  {
   "cell_type": "code",
   "execution_count": 3,
   "metadata": {},
   "outputs": [
    {
     "name": "stdout",
     "output_type": "stream",
     "text": [
      "12\n",
      "7\n"
     ]
    }
   ],
   "source": [
    "def consequense_in_range(events, action_open, action_close, time_hours=10, single=True):\n",
    "    time_sec = time_hours * 3600\n",
    "    opens = get_all(events, action_open)\n",
    "    closes = get_all(events, action_close)\n",
    "    pairs = []\n",
    "    for op in opens:\n",
    "        pair = [op, None]\n",
    "        subr = filter(lambda e: e.ts > op.ts and e.ts <= op.ts + time_sec, closes)\n",
    "        if single:\n",
    "            pair[1] = next(subr, None)\n",
    "        else:\n",
    "            pair[1] = list(subr)       \n",
    "        pairs.append(pair)\n",
    "    return pairs\n",
    "\n",
    "sleeps = consequense_in_range(events, 'sleep', 'wakeup', 12)\n",
    "print(len(sleeps))\n",
    "day = 3600 * 24\n",
    "recent_sleeps = [s for s in sleeps if datetime.datetime.now().timestamp() - s[0].ts < 2600]\n",
    "print(len(recent_sleeps))"
   ]
  },
  {
   "cell_type": "code",
   "execution_count": 4,
   "metadata": {},
   "outputs": [
    {
     "data": {
      "image/png": "[encoded data removed]",
      "text/plain": [
       "<matplotlib.figure.Figure at 0x190decc0240>"
      ]
     },
     "metadata": {},
     "output_type": "display_data"
    }
   ],
   "source": [
    "from matplotlib import pyplot as plt\n",
    "plt.figure(figsize=(10,4))\n",
    "vals = [p[0].ts for p in recent_sleeps]\n",
    "times = [p[0].time_to(p[1]) for p in recent_sleeps]\n",
    "plt.plot(vals, times, 'bo', markersize=5)\n",
    "plt.grid(True)\n",
    "plt.xlabel('Время')\n",
    "plt.ylabel('Длина сна (сек)')\n",
    "plt.show()"
   ]
  }
 ],
 "metadata": {
  "kernelspec": {
   "display_name": "Python 3",
   "language": "python",
   "name": "python3"
  },
  "language_info": {
   "codemirror_mode": {
    "name": "ipython",
    "version": 3
   },
   "file_extension": ".py",
   "mimetype": "text/x-python",
   "name": "python",
   "nbconvert_exporter": "python",
   "pygments_lexer": "ipython3",
   "version": "3.6.1"
  }
 },
 "nbformat": 4,
 "nbformat_minor": 2
}
